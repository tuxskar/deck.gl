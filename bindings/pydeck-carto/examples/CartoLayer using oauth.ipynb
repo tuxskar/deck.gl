{
 "cells": [
  {
   "cell_type": "markdown",
   "id": "07b2a8ec",
   "metadata": {},
   "source": [
    "# CartoLayer using oauth\n",
    "\n",
    "Render cloud data with a session token from oauth\n",
    "\n",
    "### Note\n",
    "\n",
    "In order to make this notebook work, run it from source and from the `bindings/pydeck-carto` folder with\n",
    "```\n",
    "export PYTHONPATH=`(pwd)`\n",
    "jupyter notebook\n",
    "```\n",
    "\n"
   ]
  },
  {
   "cell_type": "code",
   "execution_count": 1,
   "id": "30353b70",
   "metadata": {},
   "outputs": [],
   "source": [
    "import pydeck as pdk\n",
    "from pydeck_carto import register_carto_layer\n",
    "from pydeck_carto.carto_auth.auth import CartoAuth\n",
    "from pydeck_carto.layer import MapType, CartoConnection\n",
    "\n",
    "register_carto_layer()"
   ]
  },
  {
   "cell_type": "code",
   "execution_count": 2,
   "id": "f4a7e937",
   "metadata": {},
   "outputs": [],
   "source": [
    "carto_auth = CartoAuth.from_oauth()"
   ]
  },
  {
   "cell_type": "code",
   "execution_count": 4,
   "id": "46e8630b",
   "metadata": {},
   "outputs": [
    {
     "data": {
      "text/plain": [
       "{'apiVersion': 'v3',\n",
       " 'apiBaseUrl': 'https://gcp-europe-west1.api.carto.com',\n",
       " 'accessToken': 'eyJhbGciOiJkaXIiLCJlbmMiOiJBMjU2R0NNIiwiaXNzIjoiaHR0cHM6Ly9jYXJ0by1kZXZlbG9wbWVudC51cy5hdXRoMC5jb20vIn0..2eZgyzbYSVwtKTPz.adXkgSfGsUYX2Ldlxl6VOYT4iP5Rypy8WgRhKBl65Tj_5cjJ1TIZLSCWjP-Es1smr3K2WBHvBBUeBIf_K2JyMcv8Mhk6wZZDJ3NSRpqi-EIOXTvVoAGVP0RJWUyedc7bumonUuxIyzocfTlNFB2gSl2XqmewNxaQVYE0A1t8tCwvbMHvevH7iEAUb4n1bUYZFZMinxlM2CKAmZIw2ODvh04DfGccuyH40_aIZ8cLbsusVkzKNEZQljLEu8ENxpu6S0XagX0B8ZfZEBku4A_MHCE-rh6Iz4Lst7RGTOKr7UOyY71JN0-uu26Mb5fJ5hWcd_uFLYu_sJ2qVc2sTLJUlBrautCY4zsJ43vKGA11TiYz.TQcwiQ_dSDHi1LlG-bHFtQ'}"
      ]
     },
     "execution_count": 4,
     "metadata": {},
     "output_type": "execute_result"
    }
   ],
   "source": [
    "carto_auth.credentials()"
   ]
  },
  {
   "cell_type": "code",
   "execution_count": 3,
   "id": "89ad2747",
   "metadata": {},
   "outputs": [
    {
     "data": {
      "text/html": [
       "\n",
       "        <iframe\n",
       "            width=\"100%\"\n",
       "            height=500\n",
       "            frameborder=\"0\"\n",
       "            srcdoc=\"&lt;!DOCTYPE html&gt;\n",
       "&lt;html&gt;\n",
       "  &lt;head&gt;\n",
       "    &lt;meta http-equiv=&quot;content-type&quot; content=&quot;text/html; charset=UTF-8&quot; /&gt;\n",
       "    &lt;title&gt;pydeck&lt;/title&gt;\n",
       "        &lt;script src=&quot;https://api.tiles.mapbox.com/mapbox-gl-js/v1.13.0/mapbox-gl.js&quot;&gt;&lt;/script&gt;\n",
       "        &lt;link rel=&quot;stylesheet&quot; href=&quot;https://maxcdn.bootstrapcdn.com/bootstrap/3.2.0/css/bootstrap-theme.min.css&quot; /&gt;\n",
       "    &lt;link rel=&quot;stylesheet&quot; href=&quot;https://maxcdn.bootstrapcdn.com/font-awesome/4.6.3/css/font-awesome.min.css&quot; /&gt;\n",
       "    &lt;script src=&#x27;https://cdn.jsdelivr.net/npm/@deck.gl/jupyter-widget@~8.5.*/dist/index.js&#x27;&gt;&lt;/script&gt;\n",
       "    &lt;style&gt;\n",
       "    body {\n",
       "  margin: 0;\n",
       "  padding: 0;\n",
       "  overflow: hidden;\n",
       "}\n",
       "\n",
       "#deck-map-container {\n",
       "  width: 100%;\n",
       "  height: 100%;\n",
       "  background-color: black;\n",
       "}\n",
       "\n",
       "#map {\n",
       "  pointer-events: none;\n",
       "  height: 100%;\n",
       "  width: 100%;\n",
       "  position: absolute;\n",
       "  z-index: 1;\n",
       "}\n",
       "\n",
       "#deckgl-overlay {\n",
       "  z-index: 2;\n",
       "  background: none;\n",
       "}\n",
       "\n",
       "#deck-map-wrapper {\n",
       "  width: 100%;\n",
       "  height: 100%;\n",
       "}\n",
       "\n",
       "#deck-container {\n",
       "  width: 100vw;\n",
       "  height: 100vh;\n",
       "}\n",
       "    &lt;/style&gt;\n",
       "  &lt;/head&gt;\n",
       "  &lt;body&gt;\n",
       "    &lt;div id=&quot;deck-container&quot;&gt;\n",
       "    &lt;/div&gt;\n",
       "  &lt;/body&gt;\n",
       "  &lt;script&gt;\n",
       "    const jsonInput = {&quot;initialViewState&quot;: {&quot;latitude&quot;: 0, &quot;longitude&quot;: 0, &quot;zoom&quot;: 1}, &quot;layers&quot;: [{&quot;@@type&quot;: &quot;CartoLayer&quot;, &quot;connection&quot;: &quot;carto_dw&quot;, &quot;credentials&quot;: {&quot;accessToken&quot;: &quot;eyJhbGciOiJkaXIiLCJlbmMiOiJBMjU2R0NNIiwiaXNzIjoiaHR0cHM6Ly9jYXJ0by1kZXZlbG9wbWVudC51cy5hdXRoMC5jb20vIn0..2eZgyzbYSVwtKTPz.adXkgSfGsUYX2Ldlxl6VOYT4iP5Rypy8WgRhKBl65Tj_5cjJ1TIZLSCWjP-Es1smr3K2WBHvBBUeBIf_K2JyMcv8Mhk6wZZDJ3NSRpqi-EIOXTvVoAGVP0RJWUyedc7bumonUuxIyzocfTlNFB2gSl2XqmewNxaQVYE0A1t8tCwvbMHvevH7iEAUb4n1bUYZFZMinxlM2CKAmZIw2ODvh04DfGccuyH40_aIZ8cLbsusVkzKNEZQljLEu8ENxpu6S0XagX0B8ZfZEBku4A_MHCE-rh6Iz4Lst7RGTOKr7UOyY71JN0-uu26Mb5fJ5hWcd_uFLYu_sJ2qVc2sTLJUlBrautCY4zsJ43vKGA11TiYz.TQcwiQ_dSDHi1LlG-bHFtQ&quot;, &quot;apiBaseUrl&quot;: &quot;https://gcp-europe-west1.api.carto.com&quot;, &quot;apiVersion&quot;: &quot;v3&quot;}, &quot;data&quot;: &quot;SELECT geom, name FROM cartobq.public_account.populated_places&quot;, &quot;getFillColor&quot;: [238, 77, 90], &quot;id&quot;: &quot;065e653d-73db-4bec-8557-0e986adcf98b&quot;, &quot;pointRadiusMinPixels&quot;: 2.5, &quot;type&quot;: &quot;query&quot;}], &quot;mapProvider&quot;: &quot;carto&quot;, &quot;mapStyle&quot;: &quot;https://basemaps.cartocdn.com/gl/voyager-gl-style/style.json&quot;, &quot;views&quot;: [{&quot;@@type&quot;: &quot;MapView&quot;, &quot;controller&quot;: true}]};\n",
       "    const tooltip = true;\n",
       "    const customLibraries = [{&#x27;libraryName&#x27;: &#x27;CartoLayerLibrary&#x27;, &#x27;resourceUri&#x27;: &#x27;https://cdn.jsdelivr.net/combine/npm/h3-js@~3.7.*/dist/h3-js.umd.js,npm/@deck.gl/extensions@~8.8.*/dist.min.js,npm/@deck.gl/carto@~8.8.*/dist.min.js&#x27;}];\n",
       "\n",
       "    const deckInstance = createDeck({\n",
       "                  container: document.getElementById(&#x27;deck-container&#x27;),\n",
       "      jsonInput,\n",
       "      tooltip,\n",
       "      customLibraries\n",
       "    });\n",
       "\n",
       "  &lt;/script&gt;\n",
       "&lt;/html&gt;\"\n",
       "        ></iframe>\n",
       "    "
      ],
      "text/plain": [
       "{\"initialViewState\": {\"latitude\": 0, \"longitude\": 0, \"zoom\": 1}, \"layers\": [{\"@@type\": \"CartoLayer\", \"connection\": \"carto_dw\", \"credentials\": {\"accessToken\": \"eyJhbGciOiJkaXIiLCJlbmMiOiJBMjU2R0NNIiwiaXNzIjoiaHR0cHM6Ly9jYXJ0by1kZXZlbG9wbWVudC51cy5hdXRoMC5jb20vIn0..2eZgyzbYSVwtKTPz.adXkgSfGsUYX2Ldlxl6VOYT4iP5Rypy8WgRhKBl65Tj_5cjJ1TIZLSCWjP-Es1smr3K2WBHvBBUeBIf_K2JyMcv8Mhk6wZZDJ3NSRpqi-EIOXTvVoAGVP0RJWUyedc7bumonUuxIyzocfTlNFB2gSl2XqmewNxaQVYE0A1t8tCwvbMHvevH7iEAUb4n1bUYZFZMinxlM2CKAmZIw2ODvh04DfGccuyH40_aIZ8cLbsusVkzKNEZQljLEu8ENxpu6S0XagX0B8ZfZEBku4A_MHCE-rh6Iz4Lst7RGTOKr7UOyY71JN0-uu26Mb5fJ5hWcd_uFLYu_sJ2qVc2sTLJUlBrautCY4zsJ43vKGA11TiYz.TQcwiQ_dSDHi1LlG-bHFtQ\", \"apiBaseUrl\": \"https://gcp-europe-west1.api.carto.com\", \"apiVersion\": \"v3\"}, \"data\": \"SELECT geom, name FROM cartobq.public_account.populated_places\", \"getFillColor\": [238, 77, 90], \"id\": \"065e653d-73db-4bec-8557-0e986adcf98b\", \"pointRadiusMinPixels\": 2.5, \"type\": \"query\"}], \"mapProvider\": \"carto\", \"mapStyle\": \"https://basemaps.cartocdn.com/gl/voyager-gl-style/style.json\", \"views\": [{\"@@type\": \"MapView\", \"controller\": true}]}"
      ]
     },
     "execution_count": 3,
     "metadata": {},
     "output_type": "execute_result"
    }
   ],
   "source": [
    "layer = pdk.Layer(\n",
    "    \"CartoLayer\",\n",
    "    data=\"SELECT geom, name FROM cartobq.public_account.populated_places\",\n",
    "    type_=MapType.QUERY,\n",
    "    connection=CartoConnection.CARTO_DW,\n",
    "    credentials=carto_auth.credentials(),\n",
    "    get_fill_color=[238, 77, 90],\n",
    "    point_radius_min_pixels=2.5,\n",
    ")\n",
    "\n",
    "view_state = pdk.ViewState(latitude=0, longitude=0, zoom=1)\n",
    "\n",
    "pdk.Deck(layer, map_style=pdk.map_styles.ROAD, initial_view_state=view_state)\n"
   ]
  }
 ],
 "metadata": {
  "kernelspec": {
   "display_name": "Python 3 (ipykernel)",
   "language": "python",
   "name": "python3"
  },
  "language_info": {
   "codemirror_mode": {
    "name": "ipython",
    "version": 3
   },
   "file_extension": ".py",
   "mimetype": "text/x-python",
   "name": "python",
   "nbconvert_exporter": "python",
   "pygments_lexer": "ipython3",
   "version": "3.8.0"
  }
 },
 "nbformat": 4,
 "nbformat_minor": 5
}
